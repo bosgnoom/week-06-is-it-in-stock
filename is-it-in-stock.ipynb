{
 "cells": [
  {
   "cell_type": "markdown",
   "id": "ed184152-9dc8-43fa-9e8a-33559598cc2c",
   "metadata": {},
   "source": [
    "Weekopdracht 6 2022 - &copy; Paul Schouten 2022\n",
    "\n",
    "# Is it in Stock?\n",
    "\n",
    "Al vele jaren gaat Klaas naar de supermarkt bij hem om de hoek. Hij doet er niet alleen boodschappen voor zichzelf, maar ook voor zijn mindervalide buurvrouw. Elke dinsdag krijgt hij een boodschappenlijstje mee en brengt hij de boodschappen weer netjes bij haar thuis af.\n",
    "Klaas heeft echter recent een extra baan gekregen en wil dit proces optimaliseren om zo meer tijd te besparen. Aan de hand van de volgende opdrachten ga jij hem helpen zo efficient mogelijk de boodschappen te doen.\n",
    "\n",
    "<div style=\"font-size: 2em; text-align: center;\">★</div>\n",
    "\n",
    "Adrie heeft het boodschappenlijstje voor hem klaargelegd. Zijn alle producten op het lijstje ook te vinden in de supermarkt? Het assortiment is [hier](assortiment.json) te vinden.\n",
    "\n"
   ]
  },
  {
   "cell_type": "code",
   "execution_count": null,
   "id": "c08876dc-2012-40a7-9fc4-5575b4631801",
   "metadata": {},
   "outputs": [],
   "source": [
    "# Pseudo code\n",
    "lijstje = lijstje.json (lijstje - product)\n",
    "assorti = assortiment.json (producten - product)\n",
    "\n",
    "for item in lijstje:\n",
    "    if item in assortiment: OK\n",
    "    else BREAK\n",
    "    \n",
    "mooier: list comprehension\n",
    "beschikbaar = [ item in assortiment for item in lijstje ]\n",
    "\n",
    "if all(beschikbaar):\n",
    "    JOEHOE\n",
    "else\n",
    "    KAK\n",
    "    \n"
   ]
  },
  {
   "cell_type": "markdown",
   "id": "2972bcb9-8c1e-4219-85c3-4985858d3e4f",
   "metadata": {},
   "source": [
    "<div style=\"font-size: 2em; text-align: center;\">★★</div>\n",
    "\n",
    "Klaas krijgt altijd 15 euro mee om de boodschappen mee te doen. Heeft Klaas hier genoeg aan? De prijzen zijn weer te vinden in het [assortiment](assortiment.json).\n",
    "\n"
   ]
  },
  {
   "cell_type": "code",
   "execution_count": null,
   "id": "66cd199e-2a4c-4cc3-bc97-4610bd75054f",
   "metadata": {},
   "outputs": [],
   "source": [
    "# Pseudo code\n",
    "lijstje = lijstje.json\n",
    "assorti = assortiment.json\n",
    "\n",
    "totaalprijs = 0\n",
    "for item in lijstje:\n",
    "    subtotaal = prijs * hoeveelheid\n",
    "    totaalprijs += subtotaal\n",
    "    \n",
    "if totaalprijs =< 15:\n",
    "    JOEHOE\n",
    "else\n",
    "    KAK"
   ]
  },
  {
   "cell_type": "markdown",
   "id": "3ae565a5-9355-45b9-a816-e2645a2ed82c",
   "metadata": {},
   "source": [
    "<div style=\"font-size: 2em; text-align: center;\">★★★</div>\n",
    "\n",
    "De buurvrouw is jarig en wilt graag een taart bakken. Aangezien ze niet zo van het weggooien is wilt ze altijd goed kijken naar de hoeveelheid ingredienten en niet teveel kopen. Hoeveel blijft er over van de ingrediënten voor het [taartrecept](recept.json), als de boodschappen zo gedaan worden met de minste verspilling?\n",
    "\n"
   ]
  },
  {
   "cell_type": "code",
   "execution_count": null,
   "id": "ebd0a228-3e22-4c52-a88a-474dc05755e6",
   "metadata": {},
   "outputs": [],
   "source": []
  },
  {
   "cell_type": "markdown",
   "id": "30f373d5-f4b4-4d53-beb9-b797a2913eee",
   "metadata": {},
   "source": [
    "## Bonus\n",
    "\n",
    "Binnenin de supermarkt is de plek van de producten bekend. Met behulp van [Dijkstra's algoritme](https://en.wikipedia.org/wiki/Dijkstra%27s_algorithm) kan je kijken wat de kortste route in de supermarkt is. Zo kan je de looproute optimaliseren en dus weer sneller thuis zijn.\n",
    "\n",
    "Hieronder is een schematische weergave van de supermarkt toegevoegd. Bereken de korste route aan de hand van het boodschappenlijstje van de eerste opdracht. Uiteraard moet je langs elk schap van het product op je lijstje.\n",
    "\n",
    "<img src=\"supermarkt.png\" style=\"width: 50%; display: block; margin-left: auto; margin-right: auto;\" />"
   ]
  },
  {
   "cell_type": "code",
   "execution_count": null,
   "id": "0fe0c7b6-2a4c-4b9b-b916-4939b2795c53",
   "metadata": {},
   "outputs": [],
   "source": []
  }
 ],
 "metadata": {
  "kernelspec": {
   "display_name": "Python 3 (ipykernel)",
   "language": "python",
   "name": "python3"
  },
  "language_info": {
   "codemirror_mode": {
    "name": "ipython",
    "version": 3
   },
   "file_extension": ".py",
   "mimetype": "text/x-python",
   "name": "python",
   "nbconvert_exporter": "python",
   "pygments_lexer": "ipython3",
   "version": "3.10.2"
  }
 },
 "nbformat": 4,
 "nbformat_minor": 5
}
